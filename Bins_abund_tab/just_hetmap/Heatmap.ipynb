{
 "cells": [
  {
   "cell_type": "code",
   "execution_count": 6,
   "metadata": {},
   "outputs": [],
   "source": [
    "import pandas as pd\n",
    "import os \n",
    "import seaborn as sns\n",
    "import matplotlib.pyplot as plt\n",
    "import numpy as np"
   ]
  },
  {
   "cell_type": "code",
   "execution_count": 7,
   "metadata": {},
   "outputs": [],
   "source": [
    "\n",
    "## load in the heat map data\n",
    "heat_map_data = 'final_bins_abundace.tsv'\n",
    "heat_map_df = pd.read_csv(heat_map_data, sep = '\\t')\n",
    "##Change 'Bin Id' to 'bin_name'\n",
    "heat_map_df.rename({'Bin Id':'bin_name'}, inplace=True, axis = 1)\n",
    "\n",
    "## change the sr to SR\n",
    "heat_map_df['bin_name'] = heat_map_df['bin_name'].apply(lambda bin_name: bin_name.replace('sr', 'SR'))\n",
    "heat_map_df = heat_map_df.set_index('bin_name')\n",
    "\n",
    "# ## Genrate the heat map here and export it...\n",
    "\n",
    "# ## Normalization functions\n",
    "\n",
    "# def col_sum(dataframe):\n",
    "#     return dataframe.div(dataframe.sum(axis=0), axis=1)\n",
    "\n",
    "# def log_by_n(dataframe, n ):\n",
    "#     return np.log((dataframe) * n)\n",
    "\n",
    "def min_max(dataframe, n):\n",
    "    return (dataframe-dataframe.min())/(dataframe.max()-dataframe.min()) * n\n",
    "\n",
    "\n",
    "# ## Data normalisation for heatmap\n",
    "heat_map_df[heat_map_df < 0.5] = 0\n",
    "heat_map_df = min_max(heat_map_df, 1)\n",
    "\n",
    "\n",
    "heat_map_df.rename(index={'SR_bins.25':'MH-Pat_SR_metabat2_bins_bin.25',\n",
    "                               'SR_bins.5':'MH-Pat_SR_metabat2_bins_bin.5',\n",
    "                               'SR_cluster_DBSCAN_round1_1':'MH-Pat_SR_autometa_cluster_DBSCAN_round1_1',\n",
    "                               'SR_cluster_DBSCAN_round2_1':'MH-Pat_SR_autometa_cluster_DBSCAN_round2_1',\n",
    "                               'SR_cluster_DBSCAN_round3_0':'MH-Pat_SR_autometa_cluster_DBSCAN_round3_0',\n",
    "                               'SR_cluster_DBSCAN_round4_1':'MH-Pat_SR_autometa_cluster_DBSCAN_round4_1'\n",
    "                              },inplace=True)\n"
   ]
  },
  {
   "cell_type": "code",
   "execution_count": 8,
   "metadata": {},
   "outputs": [],
   "source": [
    "## Spit out the heat_map values \n",
    "pd.DataFrame.to_csv(heat_map_df,'heat_map_values.csv')\n",
    "\n",
    "\n"
   ]
  },
  {
   "cell_type": "code",
   "execution_count": null,
   "metadata": {},
   "outputs": [],
   "source": []
  },
  {
   "cell_type": "code",
   "execution_count": 9,
   "metadata": {},
   "outputs": [
    {
     "data": {
      "image/png": "[encoded data removed]",
      "text/plain": [
       "<Figure size 144x360 with 2 Axes>"
      ]
     },
     "metadata": {
      "needs_background": "light"
     },
     "output_type": "display_data"
    }
   ],
   "source": [
    "#Rm the index name to an empty string for the plot \n",
    "heat_map_df.index.name = ''\n",
    "\n",
    "#ns.set(font_scale=3)\n",
    "\n",
    "#ratio of color bar to plot \n",
    "grid_kws = {\"height_ratios\": (.03, 1),  \"hspace\": 0.15}\n",
    "\n",
    "# pos of color bar and plot sizes\n",
    "fig, (cbar_ax, ax) = plt.subplots(2, figsize=(2,5), gridspec_kw=grid_kws)\n",
    "\n",
    "\n",
    "# heat map plotting \n",
    "\n",
    "ax = sns.heatmap(heat_map_df,\n",
    "                 cmap='RdYlGn_r',\n",
    "                 ax=ax, \n",
    "                 yticklabels=False,\n",
    "                 mask=heat_map_df==0,\n",
    "                 linewidths=3,\n",
    "                 cbar_ax=cbar_ax,\n",
    "                 \n",
    "                 cbar_kws={ \"orientation\": \"horizontal\", \"label\":'Abundance'})\n",
    "\n",
    "ax.set_xticklabels(ax.get_xmajorticklabels(), fontsize = 16)\n",
    "\n",
    "plt.savefig(\"heatmap.png\")\n",
    "plt.show()"
   ]
  },
  {
   "cell_type": "code",
   "execution_count": null,
   "metadata": {},
   "outputs": [],
   "source": []
  },
  {
   "cell_type": "code",
   "execution_count": null,
   "metadata": {},
   "outputs": [],
   "source": []
  }
 ],
 "metadata": {
  "kernelspec": {
   "display_name": "Python 3",
   "language": "python",
   "name": "python3"
  },
  "language_info": {
   "codemirror_mode": {
    "name": "ipython",
    "version": 3
   },
   "file_extension": ".py",
   "mimetype": "text/x-python",
   "name": "python",
   "nbconvert_exporter": "python",
   "pygments_lexer": "ipython3",
   "version": "3.7.1"
  }
 },
 "nbformat": 4,
 "nbformat_minor": 2
}
